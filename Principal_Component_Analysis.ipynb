{
  "nbformat": 4,
  "nbformat_minor": 0,
  "metadata": {
    "colab": {
      "provenance": []
    },
    "kernelspec": {
      "name": "ir",
      "display_name": "R"
    },
    "language_info": {
      "name": "R"
    }
  },
  "cells": [
    {
      "cell_type": "markdown",
      "source": [
        "## principal component analysis Assignment"
      ],
      "metadata": {
        "id": "v9e9jb-FTbxV"
      }
    },
    {
      "cell_type": "code",
      "source": [
        "attach(longley)"
      ],
      "metadata": {
        "id": "fpkJZHulCv9c",
        "colab": {
          "base_uri": "https://localhost:8080/"
        },
        "outputId": "75be5a86-cb11-414a-f5d8-48e1e76e1cdc"
      },
      "execution_count": null,
      "outputs": [
        {
          "output_type": "stream",
          "name": "stderr",
          "text": [
            "The following objects are masked from longley (pos = 3):\n",
            "\n",
            "    Armed.Forces, Employed, GNP, GNP.deflator, Population, Unemployed,\n",
            "    Year\n",
            "\n",
            "\n"
          ]
        }
      ]
    },
    {
      "cell_type": "markdown",
      "source": [
        "#### 1.a data frame that contains the data set\n",
        "\n",
        "####2. a scaler that denotes the desired percentage of variance preserved in the transformed data set"
      ],
      "metadata": {
        "id": "jZEGUAz4CykI"
      }
    },
    {
      "cell_type": "code",
      "source": [
        "head(longley, 5)"
      ],
      "metadata": {
        "colab": {
          "base_uri": "https://localhost:8080/",
          "height": 255
        },
        "id": "6MVR1SMTC0Vl",
        "outputId": "05ab9127-9bd2-40d2-d6a0-d00937186a39"
      },
      "execution_count": null,
      "outputs": [
        {
          "output_type": "display_data",
          "data": {
            "text/html": [
              "<table class=\"dataframe\">\n",
              "<caption>A data.frame: 5 × 7</caption>\n",
              "<thead>\n",
              "\t<tr><th></th><th scope=col>GNP.deflator</th><th scope=col>GNP</th><th scope=col>Unemployed</th><th scope=col>Armed.Forces</th><th scope=col>Population</th><th scope=col>Year</th><th scope=col>Employed</th></tr>\n",
              "\t<tr><th></th><th scope=col>&lt;dbl&gt;</th><th scope=col>&lt;dbl&gt;</th><th scope=col>&lt;dbl&gt;</th><th scope=col>&lt;dbl&gt;</th><th scope=col>&lt;dbl&gt;</th><th scope=col>&lt;int&gt;</th><th scope=col>&lt;dbl&gt;</th></tr>\n",
              "</thead>\n",
              "<tbody>\n",
              "\t<tr><th scope=row>1947</th><td>83.0</td><td>234.289</td><td>235.6</td><td>159.0</td><td>107.608</td><td>1947</td><td>60.323</td></tr>\n",
              "\t<tr><th scope=row>1948</th><td>88.5</td><td>259.426</td><td>232.5</td><td>145.6</td><td>108.632</td><td>1948</td><td>61.122</td></tr>\n",
              "\t<tr><th scope=row>1949</th><td>88.2</td><td>258.054</td><td>368.2</td><td>161.6</td><td>109.773</td><td>1949</td><td>60.171</td></tr>\n",
              "\t<tr><th scope=row>1950</th><td>89.5</td><td>284.599</td><td>335.1</td><td>165.0</td><td>110.929</td><td>1950</td><td>61.187</td></tr>\n",
              "\t<tr><th scope=row>1951</th><td>96.2</td><td>328.975</td><td>209.9</td><td>309.9</td><td>112.075</td><td>1951</td><td>63.221</td></tr>\n",
              "</tbody>\n",
              "</table>\n"
            ],
            "text/markdown": "\nA data.frame: 5 × 7\n\n| <!--/--> | GNP.deflator &lt;dbl&gt; | GNP &lt;dbl&gt; | Unemployed &lt;dbl&gt; | Armed.Forces &lt;dbl&gt; | Population &lt;dbl&gt; | Year &lt;int&gt; | Employed &lt;dbl&gt; |\n|---|---|---|---|---|---|---|---|\n| 1947 | 83.0 | 234.289 | 235.6 | 159.0 | 107.608 | 1947 | 60.323 |\n| 1948 | 88.5 | 259.426 | 232.5 | 145.6 | 108.632 | 1948 | 61.122 |\n| 1949 | 88.2 | 258.054 | 368.2 | 161.6 | 109.773 | 1949 | 60.171 |\n| 1950 | 89.5 | 284.599 | 335.1 | 165.0 | 110.929 | 1950 | 61.187 |\n| 1951 | 96.2 | 328.975 | 209.9 | 309.9 | 112.075 | 1951 | 63.221 |\n\n",
            "text/latex": "A data.frame: 5 × 7\n\\begin{tabular}{r|lllllll}\n  & GNP.deflator & GNP & Unemployed & Armed.Forces & Population & Year & Employed\\\\\n  & <dbl> & <dbl> & <dbl> & <dbl> & <dbl> & <int> & <dbl>\\\\\n\\hline\n\t1947 & 83.0 & 234.289 & 235.6 & 159.0 & 107.608 & 1947 & 60.323\\\\\n\t1948 & 88.5 & 259.426 & 232.5 & 145.6 & 108.632 & 1948 & 61.122\\\\\n\t1949 & 88.2 & 258.054 & 368.2 & 161.6 & 109.773 & 1949 & 60.171\\\\\n\t1950 & 89.5 & 284.599 & 335.1 & 165.0 & 110.929 & 1950 & 61.187\\\\\n\t1951 & 96.2 & 328.975 & 209.9 & 309.9 & 112.075 & 1951 & 63.221\\\\\n\\end{tabular}\n",
            "text/plain": [
              "     GNP.deflator GNP     Unemployed Armed.Forces Population Year Employed\n",
              "1947 83.0         234.289 235.6      159.0        107.608    1947 60.323  \n",
              "1948 88.5         259.426 232.5      145.6        108.632    1948 61.122  \n",
              "1949 88.2         258.054 368.2      161.6        109.773    1949 60.171  \n",
              "1950 89.5         284.599 335.1      165.0        110.929    1950 61.187  \n",
              "1951 96.2         328.975 209.9      309.9        112.075    1951 63.221  "
            ]
          },
          "metadata": {}
        }
      ]
    },
    {
      "cell_type": "code",
      "source": [
        "summary(longley)"
      ],
      "metadata": {
        "colab": {
          "base_uri": "https://localhost:8080/",
          "height": 260
        },
        "id": "XahMjuC5C16N",
        "outputId": "c239d204-5d11-49db-94f3-54ca65060521"
      },
      "execution_count": null,
      "outputs": [
        {
          "output_type": "display_data",
          "data": {
            "text/plain": [
              "  GNP.deflator         GNP          Unemployed     Armed.Forces  \n",
              " Min.   : 83.00   Min.   :234.3   Min.   :187.0   Min.   :145.6  \n",
              " 1st Qu.: 94.53   1st Qu.:317.9   1st Qu.:234.8   1st Qu.:229.8  \n",
              " Median :100.60   Median :381.4   Median :314.4   Median :271.8  \n",
              " Mean   :101.68   Mean   :387.7   Mean   :319.3   Mean   :260.7  \n",
              " 3rd Qu.:111.25   3rd Qu.:454.1   3rd Qu.:384.2   3rd Qu.:306.1  \n",
              " Max.   :116.90   Max.   :554.9   Max.   :480.6   Max.   :359.4  \n",
              "   Population         Year         Employed    \n",
              " Min.   :107.6   Min.   :1947   Min.   :60.17  \n",
              " 1st Qu.:111.8   1st Qu.:1951   1st Qu.:62.71  \n",
              " Median :116.8   Median :1954   Median :65.50  \n",
              " Mean   :117.4   Mean   :1954   Mean   :65.32  \n",
              " 3rd Qu.:122.3   3rd Qu.:1958   3rd Qu.:68.29  \n",
              " Max.   :130.1   Max.   :1962   Max.   :70.55  "
            ]
          },
          "metadata": {}
        }
      ]
    },
    {
      "cell_type": "markdown",
      "source": [
        "## The function must have 3 outputs returned in a list, called number, PCA, and transformed"
      ],
      "metadata": {
        "id": "CouU8dq0LQj5"
      }
    },
    {
      "cell_type": "code",
      "source": [
        "# function declaration\n",
        "myPCA <- function (dataframe, perc_var){\n",
        "  # print(\"myPCA function called!!\");\n",
        "  # head(dataframe);\n",
        "  \n",
        "  # compute variance of each variable\n",
        "  print(apply(dataframe, 2, var))\n",
        "\n",
        "  # create new data frame with centered variables\n",
        "  scaled_df <- apply(dataframe, 2, scale)\n",
        "  print(head(scaled_df))\n",
        "  print('--------------------------------------------------------')\n",
        "  \n",
        "  print(\"Eigenvalues & Eigenvectors\")\n",
        "  # Calculate eigenvalues & eigenvectors\n",
        "  dataframe.cov <- cov(scaled_df)\n",
        "  dataframe.eigen <- eigen(dataframe.cov)\n",
        "  str(dataframe.eigen)\n",
        "\n",
        "  # Extract the loadings\n",
        "  (phi <- dataframe.eigen$vectors)\n",
        "  print('--------------------------------------------------------')\n",
        "  print(\"Principal_components_matrix\")\n",
        "\n",
        "  phi <- -phi\n",
        "  row.names(phi) <- c(\"GNP.deflator\",\"GNP\",\"Unemployed\",\"Armed.Froces\",\"Population\")\n",
        "  colnames(phi) <- c(\"PC1\",\"PC2\",\"PC3\",\"PC4\",\"PC5\")\n",
        "  print(phi)\n",
        "  \n",
        "\n",
        "  # Calculate Principal Components scores\n",
        "  \n",
        "  PC1 <- as.matrix(scaled_df) %*% phi[,1]\n",
        "  PC2 <- as.matrix(scaled_df) %*% phi[,2]\n",
        "  PC3 <- as.matrix(scaled_df) %*% phi[,3]\n",
        "  PC4 <- as.matrix(scaled_df) %*% phi[,4]\n",
        "  PC5 <- as.matrix(scaled_df) %*% phi[,5]\n",
        "\n",
        "  print('--------------------------------------------------------')\n",
        "\n",
        "  # Create data frame with Principal Components scores\n",
        "  print(\"Transformed_data_matrix\")\n",
        "  PC <- data.frame(Year = row.names(dataframe), PC1, PC2, PC3, PC4, PC5)\n",
        "  print(head(PC))\n",
        "  print('--------------------------------------------------------')\n",
        "\n",
        "  PVE <- dataframe.eigen$values / sum(dataframe.eigen$values)\n",
        "  round(PVE, 2)\n",
        "}\n",
        "\n",
        "d = longley[, -c(6,7)]\n",
        "\n",
        "# function calling\n",
        "myPCA(d, 0.98);"
      ],
      "metadata": {
        "colab": {
          "base_uri": "https://localhost:8080/",
          "height": 607
        },
        "id": "5gafadKfAibX",
        "outputId": "c61be14f-dddf-454d-8d16-5f2525e96627"
      },
      "execution_count": null,
      "outputs": [
        {
          "output_type": "stream",
          "name": "stdout",
          "text": [
            "GNP.deflator          GNP   Unemployed Armed.Forces   Population \n",
            "   116.45763   9879.35366   8732.23429   4843.04096     48.38735 \n",
            "     GNP.deflator        GNP Unemployed Armed.Forces Population\n",
            "[1,]   -1.7310992 -1.5434331 -0.8960348   -1.4609267 -1.4111352\n",
            "[2,]   -1.2214414 -1.2905329 -0.9292089   -1.6534776 -1.2639263\n",
            "[3,]   -1.2492409 -1.3043364  0.5229601   -1.4235660 -1.0998977\n",
            "[4,]   -1.1287763 -1.0372705  0.1687464   -1.3747098 -0.9337126\n",
            "[5,]   -0.5079204 -0.5908091 -1.1710587    0.7074273 -0.7689652\n",
            "[6,]   -0.3318568 -0.4094719 -1.3497707    1.4187163 -0.5971736\n",
            "[1] \"--------------------------------------------------------\"\n",
            "[1] \"Eigenvalues & Eigenvectors\"\n",
            "List of 2\n",
            " $ values : num [1:5] 3.609669 1.17534 0.199155 0.014882 0.000953\n",
            " $ vectors: num [1:5, 1:5] -0.521 -0.52 -0.366 -0.23 -0.521 ...\n",
            " - attr(*, \"class\")= chr \"eigen\"\n",
            "[1] \"--------------------------------------------------------\"\n",
            "[1] \"Principal_components_matrix\"\n",
            "                   PC1         PC2        PC3          PC4          PC5\n",
            "GNP.deflator 0.5210129 -0.05808997 -0.1889153  0.776958379 -0.292946852\n",
            "GNP          0.5199086 -0.05345522 -0.3174971 -0.135947010  0.779455948\n",
            "Unemployed   0.3658062  0.59532321  0.7100763  0.004614581  0.086870665\n",
            "Armed.Froces 0.2296424 -0.79831473  0.5511572 -0.078584283  0.002874243\n",
            "Population   0.5212397  0.04529867 -0.2356355 -0.609637027 -0.546878225\n",
            "[1] \"--------------------------------------------------------\"\n",
            "[1] \"Transformed_data_matrix\"\n",
            "  Year        PC1        PC2         PC3          PC4          PC5\n",
            "1 1947 -3.1031746  0.7519905 -0.29187307 -0.164215614 -0.006237107\n",
            "2 1948 -2.6857734  0.8495010 -0.63281993  0.122620708 -0.042355835\n",
            "3 1949 -2.0379258  1.5402521  0.49603161 -0.008466046 -0.007863283\n",
            "4 1950 -1.8680442  1.2766319  0.12473100 -0.057963320  0.043499782\n",
            "5 1951 -1.2385402 -1.2356542  0.02309218  0.093478781  0.009116973\n",
            "6 1952 -0.8650172 -1.9220172  0.15690972  0.044169280 -0.008545465\n",
            "[1] \"--------------------------------------------------------\"\n"
          ]
        },
        {
          "output_type": "display_data",
          "data": {
            "text/html": [
              "<style>\n",
              ".list-inline {list-style: none; margin:0; padding: 0}\n",
              ".list-inline>li {display: inline-block}\n",
              ".list-inline>li:not(:last-child)::after {content: \"\\00b7\"; padding: 0 .5ex}\n",
              "</style>\n",
              "<ol class=list-inline><li>0.72</li><li>0.24</li><li>0.04</li><li>0</li><li>0</li></ol>\n"
            ],
            "text/markdown": "1. 0.72\n2. 0.24\n3. 0.04\n4. 0\n5. 0\n\n\n",
            "text/latex": "\\begin{enumerate*}\n\\item 0.72\n\\item 0.24\n\\item 0.04\n\\item 0\n\\item 0\n\\end{enumerate*}\n",
            "text/plain": [
              "[1] 0.72 0.24 0.04 0.00 0.00"
            ]
          },
          "metadata": {}
        }
      ]
    },
    {
      "cell_type": "code",
      "source": [
        "# function declaration\n",
        "myPCA <- function (dataframe, perc_var){\n",
        "  # Computing principle component analysis (scale and center and logical value )\n",
        "  dPCA = prcomp(dataframe, scale = TRUE, center = TRUE, ); dPCA\n",
        "\n",
        "  print(attributes(dPCA))\n",
        "  # Standard deviations in each principal component\n",
        "  # Sqrtof Eigenvalues of correlation matrix\n",
        "  # print(dPCA$sdev)\n",
        "  # print(dPCA$rotation)\n",
        "\n",
        "  dPCA.var = dPCA$sdev ^ 2 # varience\n",
        "\n",
        "  PVE = dPCA.var / sum(dPCA.var) # proportion variance\n",
        "\n",
        "  # Cumulative sum upto the retention variance percetage\n",
        "  num_dPCA = which(cumsum(PVE) >= perc_var)[1]\n",
        "\n",
        "  # Choosing important PCAs\n",
        "  final_dPCA = dPCA$rotation[,seq(1, num_dPCA, by=1)]\n",
        "\n",
        "  output = list(\"minimum_number\" = num_dPCA, \"principal_components_matrix\" = final_dPCA, \"transformed_data_matrix\" = dPCA$x)\n",
        "  print(\"------------------------------------------\")\n",
        "  print(output)\n",
        "}"
      ],
      "metadata": {
        "id": "gBR21KLxDABr"
      },
      "execution_count": null,
      "outputs": []
    },
    {
      "cell_type": "code",
      "source": [
        "d = longley[, -c(6,7)]\n",
        "myPCA(d, 0.98); #call function "
      ],
      "metadata": {
        "colab": {
          "base_uri": "https://localhost:8080/"
        },
        "id": "QloiWDkIDWlH",
        "outputId": "0f62a280-e9cb-4422-d949-4d62d48e9cb8"
      },
      "execution_count": null,
      "outputs": [
        {
          "output_type": "stream",
          "name": "stdout",
          "text": [
            "$names\n",
            "[1] \"sdev\"     \"rotation\" \"center\"   \"scale\"    \"x\"       \n",
            "\n",
            "$class\n",
            "[1] \"prcomp\"\n",
            "\n",
            "[1] \"------------------------------------------\"\n",
            "$minimum_number\n",
            "[1] 3\n",
            "\n",
            "$principal_components_matrix\n",
            "                   PC1         PC2        PC3\n",
            "GNP.deflator 0.5210129 -0.05808997  0.1889153\n",
            "GNP          0.5199086 -0.05345522  0.3174971\n",
            "Unemployed   0.3658062  0.59532321 -0.7100763\n",
            "Armed.Forces 0.2296424 -0.79831473 -0.5511572\n",
            "Population   0.5212397  0.04529867  0.2356355\n",
            "\n",
            "$transformed_data_matrix\n",
            "             PC1        PC2         PC3          PC4          PC5\n",
            "1947 -3.10317465  0.7519905  0.29187307 -0.164215614  0.006237107\n",
            "1948 -2.68577339  0.8495010  0.63281993  0.122620708  0.042355835\n",
            "1949 -2.03792578  1.5402521 -0.49603161 -0.008466046  0.007863283\n",
            "1950 -1.86804415  1.2766319 -0.12473100 -0.057963320 -0.043499782\n",
            "1951 -1.23854022 -1.2356542 -0.02309218  0.093478781 -0.009116973\n",
            "1952 -0.86501725 -1.9220172 -0.15690972  0.044169280  0.008545465\n",
            "1953 -0.62849574 -1.9104551  0.06369879 -0.071036228  0.038151600\n",
            "1954  0.09580209 -0.5931806 -1.02979316 -0.063846139  0.013600944\n",
            "1955  0.05754664 -0.6934578 -0.10810508 -0.096119445 -0.067442386\n",
            "1956  0.34099479 -0.5478078  0.27994019  0.022173685 -0.031171720\n",
            "1957  0.80121281 -0.4294995  0.43987351  0.120770374  0.011159840\n",
            "1958  1.66912460  0.8628102 -0.65992778  0.186030858  0.019140073\n",
            "1959  1.69389053  0.3863466  0.26832766  0.144647679 -0.038865805\n",
            "1960  2.05888229  0.4988363  0.36814112  0.062045891 -0.004883218\n",
            "1961  2.76055508  0.9894694 -0.18253980 -0.071185102  0.027426038\n",
            "1962  2.94896234  0.1762343  0.43645608 -0.263105362  0.020499699\n",
            "\n"
          ]
        }
      ]
    },
    {
      "cell_type": "code",
      "source": [
        "d = longley[, -c(6,7)]\n",
        "\n",
        "myPCA(head(d), 0.98); # call function"
      ],
      "metadata": {
        "colab": {
          "base_uri": "https://localhost:8080/"
        },
        "id": "0M-robA-DgzH",
        "outputId": "eb0dfcfe-cca0-4917-fc6c-40b7eea0a387"
      },
      "execution_count": null,
      "outputs": [
        {
          "output_type": "stream",
          "name": "stdout",
          "text": [
            "$names\n",
            "[1] \"sdev\"     \"rotation\" \"center\"   \"scale\"    \"x\"       \n",
            "\n",
            "$class\n",
            "[1] \"prcomp\"\n",
            "\n",
            "[1] \"------------------------------------------\"\n",
            "$minimum_number\n",
            "[1] 2\n",
            "\n",
            "$principal_components_matrix\n",
            "                    PC1        PC2\n",
            "GNP.deflator  0.4841374 -0.1497245\n",
            "GNP           0.4909834 -0.1248056\n",
            "Unemployed   -0.2783338 -0.8994085\n",
            "Armed.Forces  0.4814048  0.1175511\n",
            "Population    0.4640324 -0.3731651\n",
            "\n",
            "$transformed_data_matrix\n",
            "            PC1        PC2        PC3         PC4          PC5\n",
            "1947 -2.0243772  1.0975087 -0.3054796 -0.07812266 -0.004819180\n",
            "1948 -1.1030775  0.7216943  0.4223612  0.07615515  0.015242765\n",
            "1949 -1.3399998 -1.1507685 -0.1579501  0.19253687  0.007489565\n",
            "1950 -0.5337229 -1.0433228  0.1314694 -0.23254165 -0.006500654\n",
            "1951  2.0270971  0.2069380  0.0265417  0.06873099 -0.050229254\n",
            "1952  2.9740803  0.1679504 -0.1169425 -0.02675870  0.038816757\n",
            "\n"
          ]
        }
      ]
    },
    {
      "cell_type": "code",
      "source": [
        "library(stats)\n",
        "dPCA = prcomp(d, scale = TRUE)"
      ],
      "metadata": {
        "id": "fwlPWpBwDtLt"
      },
      "execution_count": null,
      "outputs": []
    },
    {
      "cell_type": "code",
      "source": [
        "dPCA"
      ],
      "metadata": {
        "colab": {
          "base_uri": "https://localhost:8080/",
          "height": 191
        },
        "id": "bRxKZt8NKfPU",
        "outputId": "ec0c1873-f6b7-42a8-bbae-15b469e1b8f0"
      },
      "execution_count": null,
      "outputs": [
        {
          "output_type": "display_data",
          "data": {
            "text/plain": [
              "Standard deviations (1, .., p=5):\n",
              "[1] 1.89991292 1.08413093 0.44626826 0.12199281 0.03087773\n",
              "\n",
              "Rotation (n x k) = (5 x 5):\n",
              "                   PC1         PC2        PC3          PC4          PC5\n",
              "GNP.deflator 0.5210129 -0.05808997  0.1889153  0.776958379  0.292946852\n",
              "GNP          0.5199086 -0.05345522  0.3174971 -0.135947010 -0.779455948\n",
              "Unemployed   0.3658062  0.59532321 -0.7100763  0.004614581 -0.086870665\n",
              "Armed.Forces 0.2296424 -0.79831473 -0.5511572 -0.078584283 -0.002874243\n",
              "Population   0.5212397  0.04529867  0.2356355 -0.609637027  0.546878225"
            ]
          },
          "metadata": {}
        }
      ]
    },
    {
      "cell_type": "code",
      "source": [
        "predict(dPCA, newdata = head(longley[, -c(6,7)]))"
      ],
      "metadata": {
        "colab": {
          "base_uri": "https://localhost:8080/",
          "height": 255
        },
        "id": "Mcro1PisFi_I",
        "outputId": "c8841d19-b7bf-4ce7-bdd1-4704a84600e3"
      },
      "execution_count": null,
      "outputs": [
        {
          "output_type": "display_data",
          "data": {
            "text/html": [
              "<table class=\"dataframe\">\n",
              "<caption>A matrix: 6 × 5 of type dbl</caption>\n",
              "<thead>\n",
              "\t<tr><th></th><th scope=col>PC1</th><th scope=col>PC2</th><th scope=col>PC3</th><th scope=col>PC4</th><th scope=col>PC5</th></tr>\n",
              "</thead>\n",
              "<tbody>\n",
              "\t<tr><th scope=row>1947</th><td>-3.1031746</td><td> 0.7519905</td><td> 0.29187307</td><td>-0.164215614</td><td> 0.006237107</td></tr>\n",
              "\t<tr><th scope=row>1948</th><td>-2.6857734</td><td> 0.8495010</td><td> 0.63281993</td><td> 0.122620708</td><td> 0.042355835</td></tr>\n",
              "\t<tr><th scope=row>1949</th><td>-2.0379258</td><td> 1.5402521</td><td>-0.49603161</td><td>-0.008466046</td><td> 0.007863283</td></tr>\n",
              "\t<tr><th scope=row>1950</th><td>-1.8680442</td><td> 1.2766319</td><td>-0.12473100</td><td>-0.057963320</td><td>-0.043499782</td></tr>\n",
              "\t<tr><th scope=row>1951</th><td>-1.2385402</td><td>-1.2356542</td><td>-0.02309218</td><td> 0.093478781</td><td>-0.009116973</td></tr>\n",
              "\t<tr><th scope=row>1952</th><td>-0.8650172</td><td>-1.9220172</td><td>-0.15690972</td><td> 0.044169280</td><td> 0.008545465</td></tr>\n",
              "</tbody>\n",
              "</table>\n"
            ],
            "text/markdown": "\nA matrix: 6 × 5 of type dbl\n\n| <!--/--> | PC1 | PC2 | PC3 | PC4 | PC5 |\n|---|---|---|---|---|---|\n| 1947 | -3.1031746 |  0.7519905 |  0.29187307 | -0.164215614 |  0.006237107 |\n| 1948 | -2.6857734 |  0.8495010 |  0.63281993 |  0.122620708 |  0.042355835 |\n| 1949 | -2.0379258 |  1.5402521 | -0.49603161 | -0.008466046 |  0.007863283 |\n| 1950 | -1.8680442 |  1.2766319 | -0.12473100 | -0.057963320 | -0.043499782 |\n| 1951 | -1.2385402 | -1.2356542 | -0.02309218 |  0.093478781 | -0.009116973 |\n| 1952 | -0.8650172 | -1.9220172 | -0.15690972 |  0.044169280 |  0.008545465 |\n\n",
            "text/latex": "A matrix: 6 × 5 of type dbl\n\\begin{tabular}{r|lllll}\n  & PC1 & PC2 & PC3 & PC4 & PC5\\\\\n\\hline\n\t1947 & -3.1031746 &  0.7519905 &  0.29187307 & -0.164215614 &  0.006237107\\\\\n\t1948 & -2.6857734 &  0.8495010 &  0.63281993 &  0.122620708 &  0.042355835\\\\\n\t1949 & -2.0379258 &  1.5402521 & -0.49603161 & -0.008466046 &  0.007863283\\\\\n\t1950 & -1.8680442 &  1.2766319 & -0.12473100 & -0.057963320 & -0.043499782\\\\\n\t1951 & -1.2385402 & -1.2356542 & -0.02309218 &  0.093478781 & -0.009116973\\\\\n\t1952 & -0.8650172 & -1.9220172 & -0.15690972 &  0.044169280 &  0.008545465\\\\\n\\end{tabular}\n",
            "text/plain": [
              "     PC1        PC2        PC3         PC4          PC5         \n",
              "1947 -3.1031746  0.7519905  0.29187307 -0.164215614  0.006237107\n",
              "1948 -2.6857734  0.8495010  0.63281993  0.122620708  0.042355835\n",
              "1949 -2.0379258  1.5402521 -0.49603161 -0.008466046  0.007863283\n",
              "1950 -1.8680442  1.2766319 -0.12473100 -0.057963320 -0.043499782\n",
              "1951 -1.2385402 -1.2356542 -0.02309218  0.093478781 -0.009116973\n",
              "1952 -0.8650172 -1.9220172 -0.15690972  0.044169280  0.008545465"
            ]
          },
          "metadata": {}
        }
      ]
    }
  ]
}