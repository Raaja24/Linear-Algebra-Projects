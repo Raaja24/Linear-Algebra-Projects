{
 "cells": [
  {
   "cell_type": "markdown",
   "metadata": {},
   "source": [
    "# Frequent Statistics"
   ]
  },
  {
   "cell_type": "markdown",
   "metadata": {
    "id": "BgmCPm_yZEBg"
   },
   "source": [
    "\n",
    "*   install the appropriate library such as dplyr,tidyverse,forecast,tidyr,car. \n",
    "\n",
    "\n",
    "\n"
   ]
  },
  {
   "cell_type": "code",
   "execution_count": null,
   "metadata": {
    "id": "dZbkh3GvATHc"
   },
   "outputs": [],
   "source": [
    "install.packages(\"dplyr\")"
   ]
  },
  {
   "cell_type": "code",
   "execution_count": 87,
   "metadata": {
    "id": "5fX4YYv7AXNa"
   },
   "outputs": [],
   "source": [
    "library('dplyr')"
   ]
  },
  {
   "cell_type": "code",
   "execution_count": null,
   "metadata": {
    "id": "ykYktxl6GM5o"
   },
   "outputs": [],
   "source": [
    "install.packages(\"tidyverse\")"
   ]
  },
  {
   "cell_type": "code",
   "execution_count": 90,
   "metadata": {
    "id": "_957rhCeGnCq"
   },
   "outputs": [],
   "source": [
    "library(forcats)"
   ]
  },
  {
   "cell_type": "code",
   "execution_count": 91,
   "metadata": {
    "id": "cnzVWkazGRhG"
   },
   "outputs": [],
   "source": [
    "library(tidyverse)"
   ]
  },
  {
   "cell_type": "code",
   "execution_count": 92,
   "metadata": {
    "id": "wj-pnHRHMp46"
   },
   "outputs": [],
   "source": [
    "library(tidyr)"
   ]
  },
  {
   "cell_type": "code",
   "execution_count": 93,
   "metadata": {
    "id": "B7AbPDYkNcFG"
   },
   "outputs": [],
   "source": [
    "options(warn=-1)"
   ]
  },
  {
   "cell_type": "code",
   "execution_count": null,
   "metadata": {
    "id": "fUurYZ0nP9AH"
   },
   "outputs": [],
   "source": [
    "install.packages(\"car\")"
   ]
  },
  {
   "cell_type": "code",
   "execution_count": 109,
   "metadata": {
    "id": "8BqQ5Gu2P7d9"
   },
   "outputs": [],
   "source": [
    "library(car)"
   ]
  },
  {
   "cell_type": "markdown",
   "metadata": {
    "id": "FR6gt_L8T9TN"
   },
   "source": [
    "\n",
    "*   Read the csv file of the collge data.\n",
    "\n",
    "\n"
   ]
  },
  {
   "cell_type": "markdown",
   "metadata": {},
   "source": [
    "## Data Exploration\n"
   ]
  },
  {
   "cell_type": "code",
   "execution_count": 94,
   "metadata": {
    "id": "eESo4Ke0Xykd"
   },
   "outputs": [],
   "source": [
    "df = read.csv('collegeData.csv')"
   ]
  },
  {
   "cell_type": "markdown",
   "metadata": {
    "id": "gA11SxJoUE_t"
   },
   "source": [
    "\n",
    "\n",
    "*   Show the first six rows by using the head function for the data exploration.\n",
    "\n"
   ]
  },
  {
   "cell_type": "code",
   "execution_count": 95,
   "metadata": {
    "colab": {
     "base_uri": "https://localhost:8080/",
     "height": 306
    },
    "id": "36DaZGdhYcRE",
    "outputId": "0d8924e1-1d1a-4097-dc2d-9b6a56e03371"
   },
   "outputs": [
    {
     "data": {
      "text/html": [
       "<table class=\"dataframe\">\n",
       "<caption>A data.frame: 6 × 18</caption>\n",
       "<thead>\n",
       "\t<tr><th></th><th scope=col>SexCode</th><th scope=col>MaritalCode</th><th scope=col>PrevEdCode</th><th scope=col>DDVeteran</th><th scope=col>DaysEnrollToStart</th><th scope=col>AgeAtStart</th><th scope=col>AgeAtGrad</th><th scope=col>GPA</th><th scope=col>MinutesAttended</th><th scope=col>HoursAttempt</th><th scope=col>HoursEarned</th><th scope=col>HoursReq</th><th scope=col>MinutesAbsent</th><th scope=col>TransferCredits</th><th scope=col>TransferGPA</th><th scope=col>MinEFC</th><th scope=col>MaxENTEntranceScore</th><th scope=col>gradFlag</th></tr>\n",
       "\t<tr><th></th><th scope=col>&lt;chr&gt;</th><th scope=col>&lt;chr&gt;</th><th scope=col>&lt;chr&gt;</th><th scope=col>&lt;int&gt;</th><th scope=col>&lt;int&gt;</th><th scope=col>&lt;int&gt;</th><th scope=col>&lt;int&gt;</th><th scope=col>&lt;dbl&gt;</th><th scope=col>&lt;int&gt;</th><th scope=col>&lt;dbl&gt;</th><th scope=col>&lt;dbl&gt;</th><th scope=col>&lt;int&gt;</th><th scope=col>&lt;int&gt;</th><th scope=col>&lt;dbl&gt;</th><th scope=col>&lt;dbl&gt;</th><th scope=col>&lt;int&gt;</th><th scope=col>&lt;dbl&gt;</th><th scope=col>&lt;int&gt;</th></tr>\n",
       "</thead>\n",
       "<tbody>\n",
       "\t<tr><th scope=row>1</th><td>M</td><td>M   </td><td>BACH    </td><td>0</td><td> 55</td><td>24</td><td>27</td><td>3.22</td><td>145953</td><td>2925</td><td>2550</td><td>2565</td><td> 3475</td><td>19.00</td><td>2.55</td><td>   0</td><td>81.0</td><td>1</td></tr>\n",
       "\t<tr><th scope=row>2</th><td>F</td><td>M   </td><td>BACH    </td><td>0</td><td>143</td><td>22</td><td>25</td><td>3.02</td><td>129045</td><td>2640</td><td>2565</td><td>2565</td><td>11840</td><td>12.00</td><td>  NA</td><td>   0</td><td>89.5</td><td>1</td></tr>\n",
       "\t<tr><th scope=row>3</th><td>F</td><td>S   </td><td>BACH    </td><td>0</td><td> 98</td><td>30</td><td>33</td><td>3.47</td><td>111385</td><td>2559</td><td>2514</td><td>2565</td><td>  935</td><td>37.67</td><td>2.84</td><td>   0</td><td>  NA</td><td>1</td></tr>\n",
       "\t<tr><th scope=row>4</th><td>F</td><td>UN  </td><td>BACH    </td><td>0</td><td>101</td><td>24</td><td>27</td><td>3.19</td><td>135401</td><td>2520</td><td>2520</td><td>2565</td><td> 4549</td><td> 6.00</td><td>  NA</td><td>   0</td><td>87.5</td><td>1</td></tr>\n",
       "\t<tr><th scope=row>5</th><td>M</td><td>NULL</td><td>SOMECOLL</td><td>0</td><td> 61</td><td>19</td><td>22</td><td>3.84</td><td>115660</td><td>2520</td><td>2520</td><td>2565</td><td> 1340</td><td>22.00</td><td>  NA</td><td>3141</td><td>  NA</td><td>1</td></tr>\n",
       "\t<tr><th scope=row>6</th><td>F</td><td>UN  </td><td>SOMECOLL</td><td>0</td><td> 69</td><td>20</td><td>22</td><td>3.45</td><td>134521</td><td>2520</td><td>2520</td><td>2565</td><td> 5784</td><td> 9.00</td><td>  NA</td><td>  60</td><td>  NA</td><td>1</td></tr>\n",
       "</tbody>\n",
       "</table>\n"
      ],
      "text/latex": [
       "A data.frame: 6 × 18\n",
       "\\begin{tabular}{r|llllllllllllllllll}\n",
       "  & SexCode & MaritalCode & PrevEdCode & DDVeteran & DaysEnrollToStart & AgeAtStart & AgeAtGrad & GPA & MinutesAttended & HoursAttempt & HoursEarned & HoursReq & MinutesAbsent & TransferCredits & TransferGPA & MinEFC & MaxENTEntranceScore & gradFlag\\\\\n",
       "  & <chr> & <chr> & <chr> & <int> & <int> & <int> & <int> & <dbl> & <int> & <dbl> & <dbl> & <int> & <int> & <dbl> & <dbl> & <int> & <dbl> & <int>\\\\\n",
       "\\hline\n",
       "\t1 & M & M    & BACH     & 0 &  55 & 24 & 27 & 3.22 & 145953 & 2925 & 2550 & 2565 &  3475 & 19.00 & 2.55 &    0 & 81.0 & 1\\\\\n",
       "\t2 & F & M    & BACH     & 0 & 143 & 22 & 25 & 3.02 & 129045 & 2640 & 2565 & 2565 & 11840 & 12.00 &   NA &    0 & 89.5 & 1\\\\\n",
       "\t3 & F & S    & BACH     & 0 &  98 & 30 & 33 & 3.47 & 111385 & 2559 & 2514 & 2565 &   935 & 37.67 & 2.84 &    0 &   NA & 1\\\\\n",
       "\t4 & F & UN   & BACH     & 0 & 101 & 24 & 27 & 3.19 & 135401 & 2520 & 2520 & 2565 &  4549 &  6.00 &   NA &    0 & 87.5 & 1\\\\\n",
       "\t5 & M & NULL & SOMECOLL & 0 &  61 & 19 & 22 & 3.84 & 115660 & 2520 & 2520 & 2565 &  1340 & 22.00 &   NA & 3141 &   NA & 1\\\\\n",
       "\t6 & F & UN   & SOMECOLL & 0 &  69 & 20 & 22 & 3.45 & 134521 & 2520 & 2520 & 2565 &  5784 &  9.00 &   NA &   60 &   NA & 1\\\\\n",
       "\\end{tabular}\n"
      ],
      "text/markdown": [
       "\n",
       "A data.frame: 6 × 18\n",
       "\n",
       "| <!--/--> | SexCode &lt;chr&gt; | MaritalCode &lt;chr&gt; | PrevEdCode &lt;chr&gt; | DDVeteran &lt;int&gt; | DaysEnrollToStart &lt;int&gt; | AgeAtStart &lt;int&gt; | AgeAtGrad &lt;int&gt; | GPA &lt;dbl&gt; | MinutesAttended &lt;int&gt; | HoursAttempt &lt;dbl&gt; | HoursEarned &lt;dbl&gt; | HoursReq &lt;int&gt; | MinutesAbsent &lt;int&gt; | TransferCredits &lt;dbl&gt; | TransferGPA &lt;dbl&gt; | MinEFC &lt;int&gt; | MaxENTEntranceScore &lt;dbl&gt; | gradFlag &lt;int&gt; |\n",
       "|---|---|---|---|---|---|---|---|---|---|---|---|---|---|---|---|---|---|---|\n",
       "| 1 | M | M    | BACH     | 0 |  55 | 24 | 27 | 3.22 | 145953 | 2925 | 2550 | 2565 |  3475 | 19.00 | 2.55 |    0 | 81.0 | 1 |\n",
       "| 2 | F | M    | BACH     | 0 | 143 | 22 | 25 | 3.02 | 129045 | 2640 | 2565 | 2565 | 11840 | 12.00 |   NA |    0 | 89.5 | 1 |\n",
       "| 3 | F | S    | BACH     | 0 |  98 | 30 | 33 | 3.47 | 111385 | 2559 | 2514 | 2565 |   935 | 37.67 | 2.84 |    0 |   NA | 1 |\n",
       "| 4 | F | UN   | BACH     | 0 | 101 | 24 | 27 | 3.19 | 135401 | 2520 | 2520 | 2565 |  4549 |  6.00 |   NA |    0 | 87.5 | 1 |\n",
       "| 5 | M | NULL | SOMECOLL | 0 |  61 | 19 | 22 | 3.84 | 115660 | 2520 | 2520 | 2565 |  1340 | 22.00 |   NA | 3141 |   NA | 1 |\n",
       "| 6 | F | UN   | SOMECOLL | 0 |  69 | 20 | 22 | 3.45 | 134521 | 2520 | 2520 | 2565 |  5784 |  9.00 |   NA |   60 |   NA | 1 |\n",
       "\n"
      ],
      "text/plain": [
       "  SexCode MaritalCode PrevEdCode DDVeteran DaysEnrollToStart AgeAtStart\n",
       "1 M       M           BACH       0          55               24        \n",
       "2 F       M           BACH       0         143               22        \n",
       "3 F       S           BACH       0          98               30        \n",
       "4 F       UN          BACH       0         101               24        \n",
       "5 M       NULL        SOMECOLL   0          61               19        \n",
       "6 F       UN          SOMECOLL   0          69               20        \n",
       "  AgeAtGrad GPA  MinutesAttended HoursAttempt HoursEarned HoursReq\n",
       "1 27        3.22 145953          2925         2550        2565    \n",
       "2 25        3.02 129045          2640         2565        2565    \n",
       "3 33        3.47 111385          2559         2514        2565    \n",
       "4 27        3.19 135401          2520         2520        2565    \n",
       "5 22        3.84 115660          2520         2520        2565    \n",
       "6 22        3.45 134521          2520         2520        2565    \n",
       "  MinutesAbsent TransferCredits TransferGPA MinEFC MaxENTEntranceScore gradFlag\n",
       "1  3475         19.00           2.55           0   81.0                1       \n",
       "2 11840         12.00             NA           0   89.5                1       \n",
       "3   935         37.67           2.84           0     NA                1       \n",
       "4  4549          6.00             NA           0   87.5                1       \n",
       "5  1340         22.00             NA        3141     NA                1       \n",
       "6  5784          9.00             NA          60     NA                1       "
      ]
     },
     "metadata": {},
     "output_type": "display_data"
    }
   ],
   "source": [
    "head(df)"
   ]
  },
  {
   "cell_type": "markdown",
   "metadata": {
    "id": "dssmushWUXNs"
   },
   "source": [
    "\n",
    "\n",
    "*   Understand the data, use str function to understand the column name, type and sample of the data in the columns, and the number of the rows and columns.\n"
   ]
  },
  {
   "cell_type": "code",
   "execution_count": 96,
   "metadata": {
    "colab": {
     "base_uri": "https://localhost:8080/"
    },
    "id": "RMeb5n-PL2SF",
    "outputId": "bdf3034c-c408-477d-d211-1f02ea16721e"
   },
   "outputs": [
    {
     "name": "stdout",
     "output_type": "stream",
     "text": [
      "'data.frame':\t2784 obs. of  18 variables:\n",
      " $ SexCode            : chr  \"M\" \"F\" \"F\" \"F\" ...\n",
      " $ MaritalCode        : chr  \"M\" \"M\" \"S\" \"UN\" ...\n",
      " $ PrevEdCode         : chr  \"BACH\" \"BACH\" \"BACH\" \"BACH\" ...\n",
      " $ DDVeteran          : int  0 0 0 0 0 0 0 0 0 0 ...\n",
      " $ DaysEnrollToStart  : int  55 143 98 101 61 69 70 144 77 150 ...\n",
      " $ AgeAtStart         : int  24 22 30 24 19 20 21 20 17 23 ...\n",
      " $ AgeAtGrad          : int  27 25 33 27 22 22 23 23 21 26 ...\n",
      " $ GPA                : num  3.22 3.02 3.47 3.19 3.84 3.45 3.69 2.64 3.08 3.7 ...\n",
      " $ MinutesAttended    : int  145953 129045 111385 135401 115660 134521 124157 52801 139196 120865 ...\n",
      " $ HoursAttempt       : num  2925 2640 2559 2520 2520 ...\n",
      " $ HoursEarned        : num  2550 2565 2514 2520 2520 ...\n",
      " $ HoursReq           : int  2565 2565 2565 2565 2565 2565 2565 2565 2565 2565 ...\n",
      " $ MinutesAbsent      : int  3475 11840 935 4549 1340 5784 6098 704 3459 2135 ...\n",
      " $ TransferCredits    : num  19 12 37.7 6 22 ...\n",
      " $ TransferGPA        : num  2.55 NA 2.84 NA NA NA NA 3 NA NA ...\n",
      " $ MinEFC             : int  0 0 0 0 3141 60 192 0 0 0 ...\n",
      " $ MaxENTEntranceScore: num  81 89.5 NA 87.5 NA NA NA 87 84.5 NA ...\n",
      " $ gradFlag           : int  1 1 1 1 1 1 1 0 1 1 ...\n"
     ]
    }
   ],
   "source": [
    "str(df)"
   ]
  },
  {
   "cell_type": "markdown",
   "metadata": {
    "id": "YMDI_LxsYN-d"
   },
   "source": [
    "## t- test\n"
   ]
  },
  {
   "cell_type": "markdown",
   "metadata": {
    "id": "Ugtmkqr-VzXm"
   },
   "source": [
    "\n",
    "\n",
    "*   found the test for the numerical value of the data so, the first select the column no 5 to 17. \n",
    "*   then filter the data by grad flag column.\n",
    "\n",
    "\n",
    "*   Then found the t test for all the data and found the mean for the all columns.\n",
    "\n",
    "\n",
    "\n"
   ]
  },
  {
   "cell_type": "code",
   "execution_count": 113,
   "metadata": {
    "id": "CwFcRk-ZPtcu"
   },
   "outputs": [],
   "source": [
    "t_test = data.frame()\n",
    "for (i in 5:17){\n",
    "  first = leveneTest(df[[i]] ~as.logical(df$gradFlag))\n",
    "  if(a$`Pr(>F)`[1] > 0.05){\n",
    "    second = t.test(df[[i]] ~ as.logical(df$gradFlag), mu = 0, alternative = 'two.sided', var.eq = TRUE)}\n",
    "  else{\n",
    "    second = t.test(df[[i]] ~ as.logical(df$gradFlag), mu = 0, alternative = 'two.sided', var.eq = FALSE)\n",
    "      }\n",
    "    t_test[i-4,1] = colnames(df)[i]\n",
    "    t_test[i-4,2] = round(second$estimate['mean in group FALSE'],2)\n",
    "    t_test[i-4,3] = round(second$estimate['mean in group TRUE'],2)\n",
    "    t_test[i-4,4] = round(second$p.value,3)\n",
    "}"
   ]
  },
  {
   "cell_type": "markdown",
   "metadata": {
    "id": "udFfyakyXMIM"
   },
   "source": [
    "\n",
    "\n",
    "*   Then change the columns and use name which is shown in question.\n",
    "\n"
   ]
  },
  {
   "cell_type": "code",
   "execution_count": 119,
   "metadata": {
    "id": "HxDWVA99L_up"
   },
   "outputs": [],
   "source": [
    "colnames(t_test) = c(\"Feature\",\"Mean(Drop-Group)\",\"Mean(Grad-Group)\",\"p.value\")"
   ]
  },
  {
   "cell_type": "markdown",
   "metadata": {
    "id": "u6oFHuHbX2zo"
   },
   "source": [
    "\n",
    "\n",
    "*   plot the the t_test for the all numeric data.\n",
    "\n"
   ]
  },
  {
   "cell_type": "code",
   "execution_count": 120,
   "metadata": {
    "colab": {
     "base_uri": "https://localhost:8080/",
     "height": 506
    },
    "id": "SSxiHYlYVaLL",
    "outputId": "36eb6f45-6cb4-4c49-e9e9-9ff00ee5f869"
   },
   "outputs": [
    {
     "data": {
      "text/html": [
       "<table class=\"dataframe\">\n",
       "<caption>A data.frame: 13 × 4</caption>\n",
       "<thead>\n",
       "\t<tr><th></th><th scope=col>Feature</th><th scope=col>Mean(Drop-Group)</th><th scope=col>Mean(Grad-Group)</th><th scope=col>p.value</th></tr>\n",
       "\t<tr><th></th><th scope=col>&lt;chr&gt;</th><th scope=col>&lt;dbl&gt;</th><th scope=col>&lt;dbl&gt;</th><th scope=col>&lt;dbl&gt;</th></tr>\n",
       "</thead>\n",
       "<tbody>\n",
       "\t<tr><th scope=row>1</th><td>DaysEnrollToStart  </td><td>   70.99</td><td>    71.20</td><td>0.907</td></tr>\n",
       "\t<tr><th scope=row>2</th><td>AgeAtStart         </td><td>   25.32</td><td>    25.63</td><td>0.192</td></tr>\n",
       "\t<tr><th scope=row>3</th><td>AgeAtGrad          </td><td>   28.22</td><td>    28.26</td><td>0.862</td></tr>\n",
       "\t<tr><th scope=row>4</th><td>GPA                </td><td>    2.32</td><td>     3.40</td><td>0.000</td></tr>\n",
       "\t<tr><th scope=row>5</th><td>MinutesAttended    </td><td>46425.10</td><td>122184.36</td><td>0.000</td></tr>\n",
       "\t<tr><th scope=row>6</th><td>HoursAttempt       </td><td> 1081.31</td><td>  2553.41</td><td>0.000</td></tr>\n",
       "\t<tr><th scope=row>7</th><td>HoursEarned        </td><td>  901.83</td><td>  2498.69</td><td>0.000</td></tr>\n",
       "\t<tr><th scope=row>8</th><td>HoursReq           </td><td> 2301.13</td><td>  2462.64</td><td>0.000</td></tr>\n",
       "\t<tr><th scope=row>9</th><td>MinutesAbsent      </td><td> 2699.44</td><td>  3289.11</td><td>0.000</td></tr>\n",
       "\t<tr><th scope=row>10</th><td>TransferCredits    </td><td>   21.65</td><td>    26.41</td><td>0.000</td></tr>\n",
       "\t<tr><th scope=row>11</th><td>TransferGPA        </td><td>    2.70</td><td>     2.90</td><td>0.000</td></tr>\n",
       "\t<tr><th scope=row>12</th><td>MinEFC             </td><td> 4646.48</td><td>  2948.00</td><td>0.067</td></tr>\n",
       "\t<tr><th scope=row>13</th><td>MaxENTEntranceScore</td><td>   82.46</td><td>    93.54</td><td>0.292</td></tr>\n",
       "</tbody>\n",
       "</table>\n"
      ],
      "text/latex": [
       "A data.frame: 13 × 4\n",
       "\\begin{tabular}{r|llll}\n",
       "  & Feature & Mean(Drop-Group) & Mean(Grad-Group) & p.value\\\\\n",
       "  & <chr> & <dbl> & <dbl> & <dbl>\\\\\n",
       "\\hline\n",
       "\t1 & DaysEnrollToStart   &    70.99 &     71.20 & 0.907\\\\\n",
       "\t2 & AgeAtStart          &    25.32 &     25.63 & 0.192\\\\\n",
       "\t3 & AgeAtGrad           &    28.22 &     28.26 & 0.862\\\\\n",
       "\t4 & GPA                 &     2.32 &      3.40 & 0.000\\\\\n",
       "\t5 & MinutesAttended     & 46425.10 & 122184.36 & 0.000\\\\\n",
       "\t6 & HoursAttempt        &  1081.31 &   2553.41 & 0.000\\\\\n",
       "\t7 & HoursEarned         &   901.83 &   2498.69 & 0.000\\\\\n",
       "\t8 & HoursReq            &  2301.13 &   2462.64 & 0.000\\\\\n",
       "\t9 & MinutesAbsent       &  2699.44 &   3289.11 & 0.000\\\\\n",
       "\t10 & TransferCredits     &    21.65 &     26.41 & 0.000\\\\\n",
       "\t11 & TransferGPA         &     2.70 &      2.90 & 0.000\\\\\n",
       "\t12 & MinEFC              &  4646.48 &   2948.00 & 0.067\\\\\n",
       "\t13 & MaxENTEntranceScore &    82.46 &     93.54 & 0.292\\\\\n",
       "\\end{tabular}\n"
      ],
      "text/markdown": [
       "\n",
       "A data.frame: 13 × 4\n",
       "\n",
       "| <!--/--> | Feature &lt;chr&gt; | Mean(Drop-Group) &lt;dbl&gt; | Mean(Grad-Group) &lt;dbl&gt; | p.value &lt;dbl&gt; |\n",
       "|---|---|---|---|---|\n",
       "| 1 | DaysEnrollToStart   |    70.99 |     71.20 | 0.907 |\n",
       "| 2 | AgeAtStart          |    25.32 |     25.63 | 0.192 |\n",
       "| 3 | AgeAtGrad           |    28.22 |     28.26 | 0.862 |\n",
       "| 4 | GPA                 |     2.32 |      3.40 | 0.000 |\n",
       "| 5 | MinutesAttended     | 46425.10 | 122184.36 | 0.000 |\n",
       "| 6 | HoursAttempt        |  1081.31 |   2553.41 | 0.000 |\n",
       "| 7 | HoursEarned         |   901.83 |   2498.69 | 0.000 |\n",
       "| 8 | HoursReq            |  2301.13 |   2462.64 | 0.000 |\n",
       "| 9 | MinutesAbsent       |  2699.44 |   3289.11 | 0.000 |\n",
       "| 10 | TransferCredits     |    21.65 |     26.41 | 0.000 |\n",
       "| 11 | TransferGPA         |     2.70 |      2.90 | 0.000 |\n",
       "| 12 | MinEFC              |  4646.48 |   2948.00 | 0.067 |\n",
       "| 13 | MaxENTEntranceScore |    82.46 |     93.54 | 0.292 |\n",
       "\n"
      ],
      "text/plain": [
       "   Feature             Mean(Drop-Group) Mean(Grad-Group) p.value\n",
       "1  DaysEnrollToStart      70.99             71.20        0.907  \n",
       "2  AgeAtStart             25.32             25.63        0.192  \n",
       "3  AgeAtGrad              28.22             28.26        0.862  \n",
       "4  GPA                     2.32              3.40        0.000  \n",
       "5  MinutesAttended     46425.10         122184.36        0.000  \n",
       "6  HoursAttempt         1081.31           2553.41        0.000  \n",
       "7  HoursEarned           901.83           2498.69        0.000  \n",
       "8  HoursReq             2301.13           2462.64        0.000  \n",
       "9  MinutesAbsent        2699.44           3289.11        0.000  \n",
       "10 TransferCredits        21.65             26.41        0.000  \n",
       "11 TransferGPA             2.70              2.90        0.000  \n",
       "12 MinEFC               4646.48           2948.00        0.067  \n",
       "13 MaxENTEntranceScore    82.46             93.54        0.292  "
      ]
     },
     "metadata": {},
     "output_type": "display_data"
    }
   ],
   "source": [
    "t_test"
   ]
  },
  {
   "cell_type": "markdown",
   "metadata": {
    "id": "ctxZQaXfItzv"
   },
   "source": [
    "## chi-square test\n"
   ]
  },
  {
   "cell_type": "code",
   "execution_count": 47,
   "metadata": {
    "colab": {
     "base_uri": "https://localhost:8080/",
     "height": 349
    },
    "id": "-cIPbEZ7ItU9",
    "outputId": "0fd00fdc-c5bd-4dec-cc89-96113e5e2840"
   },
   "outputs": [
    {
     "data": {
      "text/html": [
       "<table class=\"dataframe\">\n",
       "<caption>A data.frame: 8 × 2</caption>\n",
       "<thead>\n",
       "\t<tr><th scope=col>df$PrevEdCode</th><th scope=col>n</th></tr>\n",
       "\t<tr><th scope=col>&lt;chr&gt;</th><th scope=col>&lt;int&gt;</th></tr>\n",
       "</thead>\n",
       "<tbody>\n",
       "\t<tr><td>ASSOC   </td><td> 363</td></tr>\n",
       "\t<tr><td>BACH    </td><td> 474</td></tr>\n",
       "\t<tr><td>GED     </td><td>   5</td></tr>\n",
       "\t<tr><td>HS      </td><td> 232</td></tr>\n",
       "\t<tr><td>MAST    </td><td>  17</td></tr>\n",
       "\t<tr><td>POSTHS  </td><td>   2</td></tr>\n",
       "\t<tr><td>SOMECOLL</td><td>1683</td></tr>\n",
       "\t<tr><td>UN      </td><td>   8</td></tr>\n",
       "</tbody>\n",
       "</table>\n"
      ],
      "text/latex": [
       "A data.frame: 8 × 2\n",
       "\\begin{tabular}{ll}\n",
       " df\\$PrevEdCode & n\\\\\n",
       " <chr> & <int>\\\\\n",
       "\\hline\n",
       "\t ASSOC    &  363\\\\\n",
       "\t BACH     &  474\\\\\n",
       "\t GED      &    5\\\\\n",
       "\t HS       &  232\\\\\n",
       "\t MAST     &   17\\\\\n",
       "\t POSTHS   &    2\\\\\n",
       "\t SOMECOLL & 1683\\\\\n",
       "\t UN       &    8\\\\\n",
       "\\end{tabular}\n"
      ],
      "text/markdown": [
       "\n",
       "A data.frame: 8 × 2\n",
       "\n",
       "| df$PrevEdCode &lt;chr&gt; | n &lt;int&gt; |\n",
       "|---|---|\n",
       "| ASSOC    |  363 |\n",
       "| BACH     |  474 |\n",
       "| GED      |    5 |\n",
       "| HS       |  232 |\n",
       "| MAST     |   17 |\n",
       "| POSTHS   |    2 |\n",
       "| SOMECOLL | 1683 |\n",
       "| UN       |    8 |\n",
       "\n"
      ],
      "text/plain": [
       "  df$PrevEdCode n   \n",
       "1 ASSOC          363\n",
       "2 BACH           474\n",
       "3 GED              5\n",
       "4 HS             232\n",
       "5 MAST            17\n",
       "6 POSTHS           2\n",
       "7 SOMECOLL      1683\n",
       "8 UN               8"
      ]
     },
     "metadata": {},
     "output_type": "display_data"
    }
   ],
   "source": [
    "df %>% count(df$PrevEdCode)"
   ]
  },
  {
   "cell_type": "code",
   "execution_count": 49,
   "metadata": {
    "colab": {
     "base_uri": "https://localhost:8080/",
     "height": 286
    },
    "id": "k2cweDV9ItSQ",
    "outputId": "17c2c088-099c-4a9e-b8de-d870ef518408"
   },
   "outputs": [
    {
     "data": {
      "text/html": [
       "<table class=\"dataframe\">\n",
       "<caption>A data.frame: 6 × 2</caption>\n",
       "<thead>\n",
       "\t<tr><th scope=col>df$MaritalCode</th><th scope=col>n</th></tr>\n",
       "\t<tr><th scope=col>&lt;chr&gt;</th><th scope=col>&lt;int&gt;</th></tr>\n",
       "</thead>\n",
       "<tbody>\n",
       "\t<tr><td>D   </td><td> 42</td></tr>\n",
       "\t<tr><td>M   </td><td>221</td></tr>\n",
       "\t<tr><td>NULL</td><td>988</td></tr>\n",
       "\t<tr><td>P   </td><td> 17</td></tr>\n",
       "\t<tr><td>S   </td><td>725</td></tr>\n",
       "\t<tr><td>UN  </td><td>791</td></tr>\n",
       "</tbody>\n",
       "</table>\n"
      ],
      "text/latex": [
       "A data.frame: 6 × 2\n",
       "\\begin{tabular}{ll}\n",
       " df\\$MaritalCode & n\\\\\n",
       " <chr> & <int>\\\\\n",
       "\\hline\n",
       "\t D    &  42\\\\\n",
       "\t M    & 221\\\\\n",
       "\t NULL & 988\\\\\n",
       "\t P    &  17\\\\\n",
       "\t S    & 725\\\\\n",
       "\t UN   & 791\\\\\n",
       "\\end{tabular}\n"
      ],
      "text/markdown": [
       "\n",
       "A data.frame: 6 × 2\n",
       "\n",
       "| df$MaritalCode &lt;chr&gt; | n &lt;int&gt; |\n",
       "|---|---|\n",
       "| D    |  42 |\n",
       "| M    | 221 |\n",
       "| NULL | 988 |\n",
       "| P    |  17 |\n",
       "| S    | 725 |\n",
       "| UN   | 791 |\n",
       "\n"
      ],
      "text/plain": [
       "  df$MaritalCode n  \n",
       "1 D               42\n",
       "2 M              221\n",
       "3 NULL           988\n",
       "4 P               17\n",
       "5 S              725\n",
       "6 UN             791"
      ]
     },
     "metadata": {},
     "output_type": "display_data"
    }
   ],
   "source": [
    "df %>% count(df$MaritalCode)"
   ]
  },
  {
   "cell_type": "code",
   "execution_count": 131,
   "metadata": {
    "colab": {
     "base_uri": "https://localhost:8080/",
     "height": 34
    },
    "id": "aOqgBTDpJRxT",
    "outputId": "456a971e-e2f1-4030-e1a1-8e63b17f1558"
   },
   "outputs": [
    {
     "data": {
      "text/html": [
       "<style>\n",
       ".list-inline {list-style: none; margin:0; padding: 0}\n",
       ".list-inline>li {display: inline-block}\n",
       ".list-inline>li:not(:last-child)::after {content: \"\\00b7\"; padding: 0 .5ex}\n",
       "</style>\n",
       "<ol class=list-inline><li>'ASSOC'</li><li>'BACH'</li><li>'HS'</li><li>'MAST'</li><li>'SOMECOLL'</li></ol>\n"
      ],
      "text/latex": [
       "\\begin{enumerate*}\n",
       "\\item 'ASSOC'\n",
       "\\item 'BACH'\n",
       "\\item 'HS'\n",
       "\\item 'MAST'\n",
       "\\item 'SOMECOLL'\n",
       "\\end{enumerate*}\n"
      ],
      "text/markdown": [
       "1. 'ASSOC'\n",
       "2. 'BACH'\n",
       "3. 'HS'\n",
       "4. 'MAST'\n",
       "5. 'SOMECOLL'\n",
       "\n",
       "\n"
      ],
      "text/plain": [
       "[1] \"ASSOC\"    \"BACH\"     \"HS\"       \"MAST\"     \"SOMECOLL\""
      ]
     },
     "metadata": {},
     "output_type": "display_data"
    }
   ],
   "source": [
    "prevedcode1 = droplevels(df[!df$PrevEdCode == 'GED',])\n",
    "prevedcode2 = droplevels(data1[!prevedcode1$PrevEdCode == 'POSTHS',])\n",
    "prevedcode3 = droplevels(data2[!prevedcode2$PrevEdCode == 'UN',])\n",
    "levels(factor(prevedcode3$PrevEdCode))"
   ]
  },
  {
   "cell_type": "code",
   "execution_count": 51,
   "metadata": {
    "colab": {
     "base_uri": "https://localhost:8080/",
     "height": 129
    },
    "id": "m67ocqjIJg87",
    "outputId": "f1ddc7b1-47a0-4b04-9d1f-1986c3983067"
   },
   "outputs": [
    {
     "data": {
      "text/html": [
       "<table class=\"dataframe\">\n",
       "<caption>A data.frame: 1 × 4</caption>\n",
       "<thead>\n",
       "\t<tr><th scope=col>SexCode</th><th scope=col>MaritalCode</th><th scope=col>PrevEdCode</th><th scope=col>DDVeteran</th></tr>\n",
       "\t<tr><th scope=col>&lt;dbl&gt;</th><th scope=col>&lt;dbl&gt;</th><th scope=col>&lt;dbl&gt;</th><th scope=col>&lt;dbl&gt;</th></tr>\n",
       "</thead>\n",
       "<tbody>\n",
       "\t<tr><td>1.717049e-05</td><td>2.043386e-20</td><td>1.378934e-47</td><td>0.6385329</td></tr>\n",
       "</tbody>\n",
       "</table>\n"
      ],
      "text/latex": [
       "A data.frame: 1 × 4\n",
       "\\begin{tabular}{llll}\n",
       " SexCode & MaritalCode & PrevEdCode & DDVeteran\\\\\n",
       " <dbl> & <dbl> & <dbl> & <dbl>\\\\\n",
       "\\hline\n",
       "\t 1.717049e-05 & 2.043386e-20 & 1.378934e-47 & 0.6385329\\\\\n",
       "\\end{tabular}\n"
      ],
      "text/markdown": [
       "\n",
       "A data.frame: 1 × 4\n",
       "\n",
       "| SexCode &lt;dbl&gt; | MaritalCode &lt;dbl&gt; | PrevEdCode &lt;dbl&gt; | DDVeteran &lt;dbl&gt; |\n",
       "|---|---|---|---|\n",
       "| 1.717049e-05 | 2.043386e-20 | 1.378934e-47 | 0.6385329 |\n",
       "\n"
      ],
      "text/plain": [
       "  SexCode      MaritalCode  PrevEdCode   DDVeteran\n",
       "1 1.717049e-05 2.043386e-20 1.378934e-47 0.6385329"
      ]
     },
     "metadata": {},
     "output_type": "display_data"
    }
   ],
   "source": [
    "data4 = data3[,c(1:4)]\n",
    "suppressWarnings(data4%>%\n",
    "  summarise_each(funs(chisq.test(.,\n",
    "                                 data3$gradFlag)$p.value), -one_of(\"gradFlag\")))"
   ]
  },
  {
   "cell_type": "markdown",
   "metadata": {
    "id": "oo8vmVpCgdmL"
   },
   "source": [
    "**Reccomendation**"
   ]
  },
  {
   "cell_type": "markdown",
   "metadata": {
    "id": "WiiLKHgNgp29"
   },
   "source": [
    "\n",
    "\n",
    "*   for t-test,in this most of the cases the p-value 0.05. It is good for the dataset.because the p-value is less than 0.05 we reject the null hypothesis.\n",
    "\n",
    "*  for chi-test, in this most of the cases the the p-value 0.05.it is good for the dataset.because we reject the null and conclude that the varience are different,\n",
    "\n"
   ]
  },
  {
   "cell_type": "markdown",
   "metadata": {
    "id": "Nb6XNxABNhlv"
   },
   "source": [
    "## Linear regression\n"
   ]
  },
  {
   "cell_type": "markdown",
   "metadata": {
    "id": "rN-wVhScaKhe"
   },
   "source": [
    "\n",
    "\n",
    "*   First,we remove the 0 gpa rows form the dataset for the multiple linear regression.\n",
    "\n",
    "\n"
   ]
  },
  {
   "cell_type": "code",
   "execution_count": 129,
   "metadata": {
    "id": "tGneRWTEJsXR"
   },
   "outputs": [],
   "source": [
    "gpa = df[df$GPA != 0, ]"
   ]
  },
  {
   "cell_type": "code",
   "execution_count": 130,
   "metadata": {
    "colab": {
     "base_uri": "https://localhost:8080/",
     "height": 34
    },
    "id": "D4d4Osg_bmgO",
    "outputId": "9cf17e76-dbda-44ec-85fc-6521150207ea"
   },
   "outputs": [
    {
     "data": {
      "text/html": [
       "0.21"
      ],
      "text/latex": [
       "0.21"
      ],
      "text/markdown": [
       "0.21"
      ],
      "text/plain": [
       "[1] 0.21"
      ]
     },
     "metadata": {},
     "output_type": "display_data"
    }
   ],
   "source": [
    "min(gpa$GPA)"
   ]
  },
  {
   "cell_type": "markdown",
   "metadata": {
    "id": "p0ulyQ8rcIHx"
   },
   "source": [
    "\n",
    "\n",
    "*   select the approprite column for the multiple linear regression.\n",
    "\n"
   ]
  },
  {
   "cell_type": "code",
   "execution_count": 124,
   "metadata": {
    "colab": {
     "base_uri": "https://localhost:8080/",
     "height": 286
    },
    "id": "bdxPvslRKaJM",
    "outputId": "b86345ee-75b6-48de-bce2-56ed644490b6"
   },
   "outputs": [
    {
     "data": {
      "text/html": [
       "<table class=\"dataframe\">\n",
       "<caption>A data.frame: 6 × 11</caption>\n",
       "<thead>\n",
       "\t<tr><th></th><th scope=col>SexCode</th><th scope=col>MaritalCode</th><th scope=col>PrevEdCode</th><th scope=col>DDVeteran</th><th scope=col>DaysEnrollToStart</th><th scope=col>AgeAtStart</th><th scope=col>GPA</th><th scope=col>TransferCredits</th><th scope=col>TransferGPA</th><th scope=col>MinEFC</th><th scope=col>MaxENTEntranceScore</th></tr>\n",
       "\t<tr><th></th><th scope=col>&lt;chr&gt;</th><th scope=col>&lt;chr&gt;</th><th scope=col>&lt;chr&gt;</th><th scope=col>&lt;int&gt;</th><th scope=col>&lt;int&gt;</th><th scope=col>&lt;int&gt;</th><th scope=col>&lt;dbl&gt;</th><th scope=col>&lt;dbl&gt;</th><th scope=col>&lt;dbl&gt;</th><th scope=col>&lt;int&gt;</th><th scope=col>&lt;dbl&gt;</th></tr>\n",
       "</thead>\n",
       "<tbody>\n",
       "\t<tr><th scope=row>1</th><td>M</td><td>M   </td><td>BACH    </td><td>0</td><td> 55</td><td>24</td><td>3.22</td><td>19.00</td><td>2.55</td><td>   0</td><td>81.0</td></tr>\n",
       "\t<tr><th scope=row>2</th><td>F</td><td>M   </td><td>BACH    </td><td>0</td><td>143</td><td>22</td><td>3.02</td><td>12.00</td><td>  NA</td><td>   0</td><td>89.5</td></tr>\n",
       "\t<tr><th scope=row>3</th><td>F</td><td>S   </td><td>BACH    </td><td>0</td><td> 98</td><td>30</td><td>3.47</td><td>37.67</td><td>2.84</td><td>   0</td><td>  NA</td></tr>\n",
       "\t<tr><th scope=row>4</th><td>F</td><td>UN  </td><td>BACH    </td><td>0</td><td>101</td><td>24</td><td>3.19</td><td> 6.00</td><td>  NA</td><td>   0</td><td>87.5</td></tr>\n",
       "\t<tr><th scope=row>5</th><td>M</td><td>NULL</td><td>SOMECOLL</td><td>0</td><td> 61</td><td>19</td><td>3.84</td><td>22.00</td><td>  NA</td><td>3141</td><td>  NA</td></tr>\n",
       "\t<tr><th scope=row>6</th><td>F</td><td>UN  </td><td>SOMECOLL</td><td>0</td><td> 69</td><td>20</td><td>3.45</td><td> 9.00</td><td>  NA</td><td>  60</td><td>  NA</td></tr>\n",
       "</tbody>\n",
       "</table>\n"
      ],
      "text/latex": [
       "A data.frame: 6 × 11\n",
       "\\begin{tabular}{r|lllllllllll}\n",
       "  & SexCode & MaritalCode & PrevEdCode & DDVeteran & DaysEnrollToStart & AgeAtStart & GPA & TransferCredits & TransferGPA & MinEFC & MaxENTEntranceScore\\\\\n",
       "  & <chr> & <chr> & <chr> & <int> & <int> & <int> & <dbl> & <dbl> & <dbl> & <int> & <dbl>\\\\\n",
       "\\hline\n",
       "\t1 & M & M    & BACH     & 0 &  55 & 24 & 3.22 & 19.00 & 2.55 &    0 & 81.0\\\\\n",
       "\t2 & F & M    & BACH     & 0 & 143 & 22 & 3.02 & 12.00 &   NA &    0 & 89.5\\\\\n",
       "\t3 & F & S    & BACH     & 0 &  98 & 30 & 3.47 & 37.67 & 2.84 &    0 &   NA\\\\\n",
       "\t4 & F & UN   & BACH     & 0 & 101 & 24 & 3.19 &  6.00 &   NA &    0 & 87.5\\\\\n",
       "\t5 & M & NULL & SOMECOLL & 0 &  61 & 19 & 3.84 & 22.00 &   NA & 3141 &   NA\\\\\n",
       "\t6 & F & UN   & SOMECOLL & 0 &  69 & 20 & 3.45 &  9.00 &   NA &   60 &   NA\\\\\n",
       "\\end{tabular}\n"
      ],
      "text/markdown": [
       "\n",
       "A data.frame: 6 × 11\n",
       "\n",
       "| <!--/--> | SexCode &lt;chr&gt; | MaritalCode &lt;chr&gt; | PrevEdCode &lt;chr&gt; | DDVeteran &lt;int&gt; | DaysEnrollToStart &lt;int&gt; | AgeAtStart &lt;int&gt; | GPA &lt;dbl&gt; | TransferCredits &lt;dbl&gt; | TransferGPA &lt;dbl&gt; | MinEFC &lt;int&gt; | MaxENTEntranceScore &lt;dbl&gt; |\n",
       "|---|---|---|---|---|---|---|---|---|---|---|---|\n",
       "| 1 | M | M    | BACH     | 0 |  55 | 24 | 3.22 | 19.00 | 2.55 |    0 | 81.0 |\n",
       "| 2 | F | M    | BACH     | 0 | 143 | 22 | 3.02 | 12.00 |   NA |    0 | 89.5 |\n",
       "| 3 | F | S    | BACH     | 0 |  98 | 30 | 3.47 | 37.67 | 2.84 |    0 |   NA |\n",
       "| 4 | F | UN   | BACH     | 0 | 101 | 24 | 3.19 |  6.00 |   NA |    0 | 87.5 |\n",
       "| 5 | M | NULL | SOMECOLL | 0 |  61 | 19 | 3.84 | 22.00 |   NA | 3141 |   NA |\n",
       "| 6 | F | UN   | SOMECOLL | 0 |  69 | 20 | 3.45 |  9.00 |   NA |   60 |   NA |\n",
       "\n"
      ],
      "text/plain": [
       "  SexCode MaritalCode PrevEdCode DDVeteran DaysEnrollToStart AgeAtStart GPA \n",
       "1 M       M           BACH       0          55               24         3.22\n",
       "2 F       M           BACH       0         143               22         3.02\n",
       "3 F       S           BACH       0          98               30         3.47\n",
       "4 F       UN          BACH       0         101               24         3.19\n",
       "5 M       NULL        SOMECOLL   0          61               19         3.84\n",
       "6 F       UN          SOMECOLL   0          69               20         3.45\n",
       "  TransferCredits TransferGPA MinEFC MaxENTEntranceScore\n",
       "1 19.00           2.55           0   81.0               \n",
       "2 12.00             NA           0   89.5               \n",
       "3 37.67           2.84           0     NA               \n",
       "4  6.00             NA           0   87.5               \n",
       "5 22.00             NA        3141     NA               \n",
       "6  9.00             NA          60     NA               "
      ]
     },
     "metadata": {},
     "output_type": "display_data"
    }
   ],
   "source": [
    "gpa1 = gpa[,-c(7,9,10,11,12,13,18)] \n",
    "head(gpa1)"
   ]
  },
  {
   "cell_type": "markdown",
   "metadata": {
    "id": "yuIKNtOvTpcS"
   },
   "source": [
    "\n",
    "\n",
    "*   Find the multiple linear regression with respect to the GPA to all the columns.\n",
    "\n",
    "*   Use summary function to understand all parameter about the this multiple linear regression.\n",
    "\n",
    "\n"
   ]
  },
  {
   "cell_type": "markdown",
   "metadata": {
    "id": "XKCu26NCcmnB"
   },
   "source": [
    "Found that \n",
    "\n",
    "\n",
    "*   Adusted R-squared is 0.2609.\n",
    "\n",
    "*  p value is very small which is 2.2e-16.\n",
    " \n",
    "*  Multiple R-squared is 0.2784\n",
    "*  F- statistic is 15.86."
   ]
  },
  {
   "cell_type": "code",
   "execution_count": 125,
   "metadata": {
    "colab": {
     "base_uri": "https://localhost:8080/",
     "height": 660
    },
    "id": "BpS7MsH2ZsAh",
    "outputId": "e5c4ddf9-791c-485a-ad53-f6db76679a25"
   },
   "outputs": [
    {
     "data": {
      "text/plain": [
       "\n",
       "Call:\n",
       "lm(formula = GPA ~ ., data = gpa1)\n",
       "\n",
       "Residuals:\n",
       "     Min       1Q   Median       3Q      Max \n",
       "-2.38966 -0.18540  0.06859  0.28083  1.16908 \n",
       "\n",
       "Coefficients:\n",
       "                      Estimate Std. Error t value Pr(>|t|)    \n",
       "(Intercept)          6.252e-01  3.640e-01   1.718   0.0863 .  \n",
       "SexCodeM            -8.702e-02  4.216e-02  -2.064   0.0394 *  \n",
       "MaritalCodeM         1.284e-01  1.644e-01   0.781   0.4350    \n",
       "MaritalCodeNULL     -9.063e-02  1.603e-01  -0.565   0.5720    \n",
       "MaritalCodeP         2.023e-01  2.101e-01   0.963   0.3360    \n",
       "MaritalCodeS         1.056e-01  1.630e-01   0.648   0.5172    \n",
       "MaritalCodeUN        1.519e-02  1.725e-01   0.088   0.9298    \n",
       "PrevEdCodeBACH       1.747e-01  5.546e-02   3.150   0.0017 ** \n",
       "PrevEdCodeHS         8.287e-02  2.360e-01   0.351   0.7256    \n",
       "PrevEdCodeMAST      -8.713e-02  1.948e-01  -0.447   0.6548    \n",
       "PrevEdCodeSOMECOLL  -1.308e-02  4.428e-02  -0.295   0.7678    \n",
       "PrevEdCodeUN        -8.579e-01  4.630e-01  -1.853   0.0643 .  \n",
       "DDVeteran           -1.203e-01  1.787e-01  -0.673   0.5011    \n",
       "DaysEnrollToStart    3.411e-04  4.974e-04   0.686   0.4930    \n",
       "AgeAtStart           6.543e-04  3.023e-03   0.216   0.8287    \n",
       "TransferCredits      9.268e-03  1.486e-03   6.236 7.56e-10 ***\n",
       "TransferGPA          3.829e-01  3.960e-02   9.669  < 2e-16 ***\n",
       "MinEFC               2.015e-06  9.519e-07   2.117   0.0346 *  \n",
       "MaxENTEntranceScore  1.392e-02  3.168e-03   4.393 1.28e-05 ***\n",
       "---\n",
       "Signif. codes:  0 ‘***’ 0.001 ‘**’ 0.01 ‘*’ 0.05 ‘.’ 0.1 ‘ ’ 1\n",
       "\n",
       "Residual standard error: 0.4602 on 740 degrees of freedom\n",
       "  (1944 observations deleted due to missingness)\n",
       "Multiple R-squared:  0.2784,\tAdjusted R-squared:  0.2609 \n",
       "F-statistic: 15.86 on 18 and 740 DF,  p-value: < 2.2e-16\n"
      ]
     },
     "metadata": {},
     "output_type": "display_data"
    }
   ],
   "source": [
    "m = lm(GPA~.,data = gpa1)\n",
    "summary(m)"
   ]
  },
  {
   "cell_type": "markdown",
   "metadata": {
    "id": "iVDocUtH7JMJ"
   },
   "source": [
    "## Residual Analysis "
   ]
  },
  {
   "cell_type": "markdown",
   "metadata": {
    "id": "6_EmHh_S0cYe"
   },
   "source": [
    "Find the residual for the the linear regresion model. "
   ]
  },
  {
   "cell_type": "code",
   "execution_count": 25,
   "metadata": {
    "id": "nUqsfzOo4uxR"
   },
   "outputs": [],
   "source": [
    "deside = resid(m)"
   ]
  },
  {
   "cell_type": "markdown",
   "metadata": {
    "id": "x9K_7hQTfzns"
   },
   "source": [
    "\n",
    "\n",
    "*   Plot the residual plot for the gpa and for residual.\n",
    "\n",
    "\n",
    "*  plot the regression line in red color on the residual plot.\n",
    "\n",
    "\n",
    "\n"
   ]
  },
  {
   "cell_type": "code",
   "execution_count": 26,
   "metadata": {
    "colab": {
     "base_uri": "https://localhost:8080/",
     "height": 437
    },
    "id": "lx1ZSBef8BI-",
    "outputId": "d6f070e5-95b0-4a98-dfc9-ffc914f7c4fc"
   },
   "outputs": [
    {
     "data": {
      "image/png": "[encoded data removed]",
      "text/plain": [
       "Plot with title “Residual plot for colege dataset”"
      ]
     },
     "metadata": {
      "image/png": {
       "height": 420,
       "width": 420
      }
     },
     "output_type": "display_data"
    }
   ],
   "source": [
    "plot(data$GPA,deside,ylab = \"Residuals\",xlab = \"GPA\",main = \"Residual plot for colege dataset\",col =\"black\")\n",
    "abline(0,0,col = \"red\")"
   ]
  },
  {
   "cell_type": "markdown",
   "metadata": {
    "id": "ZuKw0kjSgD0Z"
   },
   "source": [
    "\n",
    "\n",
    "*   plot the qnorm of residual of multiple regression line.\n",
    "*   plot the qline of residual of multiple regression line.\n",
    "\n"
   ]
  },
  {
   "cell_type": "code",
   "execution_count": 27,
   "metadata": {
    "colab": {
     "base_uri": "https://localhost:8080/",
     "height": 437
    },
    "id": "8jCFT2258fBm",
    "outputId": "604a491e-9c1c-41fd-98a9-a67bc7e74132"
   },
   "outputs": [
    {
     "data": {
      "image/png": "[encoded data removed]",
      "text/plain": [
       "Plot with title “Normal Q-Q Plot”"
      ]
     },
     "metadata": {
      "image/png": {
       "height": 420,
       "width": 420
      }
     },
     "output_type": "display_data"
    }
   ],
   "source": [
    "qqnorm(deside)\n",
    "qqline(deside)"
   ]
  },
  {
   "cell_type": "markdown",
   "metadata": {
    "id": "jbaQj8i-9btU"
   },
   "source": [
    "## Summary"
   ]
  },
  {
   "cell_type": "markdown",
   "metadata": {
    "id": "AJNoYSr0ij3b"
   },
   "source": [
    "*   I like to give advice to stackholder that Adusted R-squared is 0.2609,p value is very small which is 2.2e-16,Multiple R-squared is 0.2784,F- statistic is 15.86.\n",
    "\n",
    "\n",
    "\n",
    "*  This is good that p-value is very less.\n",
    "\n"
   ]
  }
 ],
 "metadata": {
  "colab": {
   "provenance": []
  },
  "kernelspec": {
   "display_name": "R",
   "name": "ir"
  },
  "language_info": {
   "name": "R"
  }
 },
 "nbformat": 4,
 "nbformat_minor": 1
}
